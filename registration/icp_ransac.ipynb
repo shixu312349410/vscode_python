{
 "metadata": {
  "language_info": {
   "codemirror_mode": {
    "name": "ipython",
    "version": 3
   },
   "file_extension": ".py",
   "mimetype": "text/x-python",
   "name": "python",
   "nbconvert_exporter": "python",
   "pygments_lexer": "ipython3",
   "version": "3.8.5-final"
  },
  "orig_nbformat": 2,
  "kernelspec": {
   "name": "python3",
   "display_name": "Python 3",
   "language": "python"
  }
 },
 "nbformat": 4,
 "nbformat_minor": 2,
 "cells": [
  {
   "cell_type": "code",
   "execution_count": null,
   "metadata": {},
   "outputs": [],
   "source": [
    "import os\n",
    "import copy\n",
    "import numpy as np\n",
    "import struct\n",
    "import open3d as o3d"
   ]
  },
  {
   "cell_type": "code",
   "execution_count": null,
   "metadata": {},
   "outputs": [],
   "source": [
    "source = o3d.io.read_point_cloud(\"cloud_bin_0.pcd\")\n",
    "target = o3d.io.read_point_cloud(\"cloud_bin_1.pcd\")"
   ]
  },
  {
   "cell_type": "code",
   "execution_count": null,
   "metadata": {},
   "outputs": [],
   "source": [
    "def draw_registration_result(source, target, transformation):\n",
    "    source_temp = copy.deepcopy(source)\n",
    "    target_temp = copy.deepcopy(target)\n",
    "    source_temp.paint_uniform_color([1, 0, 0])\n",
    "    target_temp.paint_uniform_color([0, 0, 1])\n",
    "    source_temp.transform(transformation)\n",
    "    o3d.visualization.draw_geometries([source_temp,target_temp],\n",
    "                                      zoom=0.4459,\n",
    "                                      front=[0.9288, -0.2951, -0.2242],\n",
    "                                      lookat=[1.6784, 2.0612, 1.4451],\n",
    "                                      up=[-0.3402, -0.9189, -0.1996])"
   ]
  },
  {
   "cell_type": "code",
   "execution_count": null,
   "metadata": {},
   "outputs": [],
   "source": [
    "\n",
    "# trans_init = np.asarray([[0.862, 0.011, -0.507, 0.5],\n",
    "#                          [-0.139, 0.967, -0.215, 0.7],\n",
    "#                          [0.487, 0.255, 0.835, -1.4], [0.0, 0.0, 0.0, 1.0]])\n",
    "\n",
    "\n",
    "\n",
    "draw_registration_result(source, target, trans_init)"
   ]
  },
  {
   "cell_type": "code",
   "execution_count": null,
   "metadata": {},
   "outputs": [],
   "source": [
    "print(\"Apply point-to-point ICP\")\n",
    "threshold = 0.03\n",
    "reg_p2p = o3d.pipelines.registration.registration_icp(\n",
    "    source, target, threshold, trans_init,\n",
    "    o3d.pipelines.registration.TransformationEstimationPointToPoint())\n",
    "print(reg_p2p)\n",
    "print(\"Transformation is:\")\n",
    "print(reg_p2p.transformation)\n",
    "draw_registration_result(source, target, reg_p2p.transformation)"
   ]
  },
  {
   "cell_type": "code",
   "execution_count": null,
   "metadata": {},
   "outputs": [],
   "source": [
    "reg_p2p = o3d.pipelines.registration.registration_icp(\n",
    "    source, target, threshold, trans_init,\n",
    "    o3d.pipelines.registration.TransformationEstimationPointToPoint(),\n",
    "    o3d.pipelines.registration.ICPConvergenceCriteria(max_iteration=2000))\n",
    "print(reg_p2p)\n",
    "print(\"Transformation is:\")\n",
    "print(reg_p2p.transformation)\n",
    "draw_registration_result(source, target, reg_p2p.transformation)"
   ]
  },
  {
   "cell_type": "code",
   "execution_count": null,
   "metadata": {},
   "outputs": [],
   "source": [
    "def solve_icp(P, Q):\n",
    "    \"\"\"\n",
    "    Solve ICP\n",
    "\n",
    "    Parameters\n",
    "    ----------\n",
    "    P: numpy.ndarray\n",
    "        source point cloud as N-by-3 numpy.ndarray\n",
    "    Q: numpy.ndarray\n",
    "        target point cloud as N-by-3 numpy.ndarray\n",
    "\n",
    "    Returns\n",
    "    ----------\n",
    "    T: transform matrix as 4-by-4 numpy.ndarray\n",
    "        transformation matrix from one-step ICP\n",
    "\n",
    "    \"\"\"\n",
    "    # compute centers:\n",
    "    up = P.mean(axis = 0)\n",
    "    uq = Q.mean(axis = 0)\n",
    "\n",
    "    # move to center:\n",
    "    P_centered = P - up\n",
    "    Q_centered = Q - uq\n",
    "\n",
    "    U, s, V = np.linalg.svd(np.dot(Q_centered.T, P_centered), full_matrices=True, compute_uv=True)\n",
    "    R = np.dot(U, V)\n",
    "    t = uq - np.dot(R, up)\n",
    "\n",
    "    # format as transform:\n",
    "    T = np.zeros((4, 4))\n",
    "    T[0:3, 0:3] = R\n",
    "    T[0:3, 3] = t\n",
    "    T[3, 3] = 1.0\n",
    "\n",
    "    return T"
   ]
  },
  {
   "cell_type": "code",
   "execution_count": null,
   "metadata": {},
   "outputs": [],
   "source": [
    "\n",
    "\n",
    "def read_bin_velodyne(path):\n",
    "    # pc_list=[]\n",
    "    # with open(path,'rb') as f:\n",
    "    #     content=f.read()\n",
    "    #     pc_iter=struct.iter_unpack('ffff',content)\n",
    "    #     for idx,point in enumerate(pc_iter):\n",
    "    #         pc_list.append([point[0],point[1],point[2]])\n",
    "    # return np.asarray(pc_list,dtype=np.float32)\n",
    "    return np.fromfile(path,dtype=np.float32).reshape(-1,4)\n",
    "\n",
    "def registration():\n",
    "    source = o3d.io.read_point_cloud(\"cloud_bin_0.pcd\")\n",
    "    target = o3d.io.read_point_cloud(\"cloud_bin_1.pcd\")\n",
    "    # threshold = 0.02\n",
    "    # trans_init = np.asarray([[0.862, 0.011, -0.507, 0.5],\n",
    "    #                      [-0.139, 0.967, -0.215, 0.7],\n",
    "    #                      [0.487, 0.255, 0.835, -1.4], [0.0, 0.0, 0.0, 1.0]])\n",
    "    # draw_registration_result(source, target, trans_init)\n",
    "\n",
    "\n",
    "\n",
    "def main():\n",
    "    # data_path = '/home/book/data/kitti/Rawdata/2011_09_26/2011_09_26_drive_0005_sync/'\n",
    "    pcd=o3d.geometry.PointCloud()\n",
    "    source = o3d.io.read_point_cloud(\"cloud_bin_0.pcd\")\n",
    "    target = o3d.io.read_point_cloud(\"cloud_bin_1.pcd\")\n",
    "    source_ndarray = np.asarray(source.points)\n",
    "    target_ndarray = np.asarray(target.points)\n",
    "\n",
    "    src_mean = source_ndarray.mean(axis = 0)\n",
    "    tar_mean = target_ndarray.mean(axis = 0)\n",
    "\n",
    "    # move to center:\n",
    "    print('move to center')\n",
    "    source.points = o3d.utility.Vector3dVector(source_ndarray - src_mean)\n",
    "    print(np.asarray(source.points))\n",
    "    # target.points = target_ndarray - tar_mean\n",
    "\n",
    "    o3d.visualization.draw_geometries([source],zoom=0.3412,\n",
    "                                        front=[0.4257, -0.2125, -0.8795],\n",
    "                                        lookat=[2.6172, 2.0475, 1.532],\n",
    "                                        up=[-0.0694, -0.9768, 0.2024])\n",
    "    # o3d.visualization.draw_geometries([target],zoom=0.3412,\n",
    "    #                                     front=[0.4257, -0.2125, -0.8795],\n",
    "    #                                     lookat=[2.6172, 2.0475, 1.532],\n",
    "    #                                     up=[-0.0694, -0.9768, 0.2024])\n",
    "\n",
    "    \n",
    "    # print('source')\n",
    "    # print(source_ndarray.shape)\n",
    "    # print('\\n')\n",
    "    # print('target')\n",
    "    # # print(target_ndarray)\n",
    "    # print(target_ndarray.shape)\n",
    "# \n",
    "    # T = solve_icp(source_ndarray,target_ndarray)\n",
    "    # print('result')\n",
    "    # print(T)\n",
    "    # for frame in range(153):\n",
    "    #     point_cloud = read_bin_velodyne(os.path.join(data_path,'velodyne_points/data/%010d.bin' % frame))\n",
    "    #     pcd.points= open3d.open3d.utility.Vector3dVector(point_cloud[:,:3])\n",
    "    #     open3d.open3d.visualization.draw_geometries([pcd])\n",
    "    \n",
    "    # filename=os.listdir(root_dir)\n",
    "    # file_number=len(filename)\n",
    "\n",
    "    \n",
    "    # for i in range(file_number):\n",
    "        # path=os.path.join(root_dir, filename[i])\n",
    "        # print(path)\n",
    "    \n",
    "        # example=read_bin_velodyne(path)\n",
    "        # From numpy to Open3D\n",
    "    \n",
    "\n",
    "# if __name__==\"__main__\":\n",
    "#     main()\n",
    "    "
   ]
  },
  {
   "cell_type": "code",
   "execution_count": null,
   "metadata": {},
   "outputs": [],
   "source": [
    "def read_bin_velodyne(path):\n",
    "    # pc_list=[]\n",
    "    # with open(path,'rb') as f:\n",
    "    #     content=f.read()\n",
    "    #     pc_iter=struct.iter_unpack('ffff',content)\n",
    "    #     for idx,point in enumerate(pc_iter):\n",
    "    #         pc_list.append([point[0],point[1],point[2]])\n",
    "    # return np.asarray(pc_list,dtype=np.float32)\n",
    "    return np.fromfile(path,dtype=np.float32).reshape(-1,4)"
   ]
  },
  {
   "cell_type": "code",
   "execution_count": null,
   "metadata": {},
   "outputs": [],
   "source": [
    "import numpy as np\n",
    "import struct\n",
    "from open3d import *\n",
    "\n",
    "def convert_kitti_bin_to_pcd(binFilePath):\n",
    "    size_float = 4\n",
    "    list_pcd = []\n",
    "    with open(binFilePath, \"rb\") as f:\n",
    "        byte = f.read(size_float * 4)\n",
    "        while byte:\n",
    "            x, y, z, intensity = struct.unpack(\"ffff\", byte)\n",
    "            list_pcd.append([x, y, z])\n",
    "            byte = f.read(size_float * 4)\n",
    "    np_pcd = np.asarray(list_pcd)\n",
    "    pcd = o3d.geometry.PointCloud()\n",
    "    pcd.points = o3d.utility.Vector3dVector(np_pcd)\n",
    "    return pcd"
   ]
  },
  {
   "cell_type": "code",
   "execution_count": null,
   "metadata": {},
   "outputs": [],
   "source": [
    "print(\"Testing kdtree in Open3D...\")\n",
    "print(\"Load a point cloud and paint it gray.\")\n",
    "pcd = o3d.io.read_point_cloud(\"cloud_bin_1.pcd\")\n",
    "pcd.paint_uniform_color([0.5, 0.5, 0.5])\n",
    "pcd_tree = o3d.geometry.KDTreeFlann(pcd)"
   ]
  },
  {
   "cell_type": "code",
   "execution_count": null,
   "metadata": {},
   "outputs": [],
   "source": [
    "print(\"Paint the 1500th point red.\")\n",
    "pcd.colors[1500] = [1, 0, 0]"
   ]
  },
  {
   "cell_type": "code",
   "execution_count": null,
   "metadata": {},
   "outputs": [],
   "source": [
    "print(\"Find its 200 nearest neighbors, and paint them blue.\")\n",
    "[k, idx, _] = pcd_tree.search_knn_vector_3d(pcd.points[1500], 200)\n",
    "np.asarray(pcd.colors)[idx[1:], :] = [0, 0, 1]"
   ]
  },
  {
   "cell_type": "code",
   "execution_count": null,
   "metadata": {},
   "outputs": [],
   "source": [
    "print(\"Visualize the point cloud.\")\n",
    "o3d.visualization.draw_geometries([pcd],\n",
    "                                  zoom=0.5599,\n",
    "                                  front=[-0.4958, 0.8229, 0.2773],\n",
    "                                  lookat=[2.1126, 1.0163, -1.8543],\n",
    "                                  up=[0.1007, -0.2626, 0.9596])"
   ]
  },
  {
   "source": [
    "## 1 preprocessing (read point cloud)"
   ],
   "cell_type": "markdown",
   "metadata": {}
  },
  {
   "cell_type": "code",
   "execution_count": 740,
   "metadata": {},
   "outputs": [
    {
     "output_type": "stream",
     "name": "stdout",
     "text": [
      "RegistrationResult with fitness=4.321677e-01, inlier_rmse=5.736704e-02, and correspondence_set size of 53253\nAccess transformation to get result.\n"
     ]
    }
   ],
   "source": [
    "trans_init = np.asarray([[1, 0, 0, 0],\n",
    "                         [0, 1, 0, 0],\n",
    "                         [0, 0, 1, 0], [0.0, 0.0, 0.0, 1.0]])\n",
    "data_path = '/home/book/data/kitti/Rawdata/2011_09_26/2011_09_26_drive_0005_sync/'\n",
    "\n",
    "import numpy as np\n",
    "import struct\n",
    "from open3d import *\n",
    "\n",
    "def convert_kitti_bin_to_pcd(binFilePath):\n",
    "    size_float = 4\n",
    "    list_pcd = []\n",
    "    with open(binFilePath, \"rb\") as f:\n",
    "        byte = f.read(size_float * 4)\n",
    "        while byte:\n",
    "            x, y, z, intensity = struct.unpack(\"ffff\", byte)\n",
    "            list_pcd.append([x, y, z])\n",
    "            byte = f.read(size_float * 4)\n",
    "    np_pcd = np.asarray(list_pcd)\n",
    "    pcd = o3d.geometry.PointCloud()\n",
    "    pcd.points = o3d.utility.Vector3dVector(np_pcd)\n",
    "    return pcd\n",
    "\n",
    "# source = o3d.geometry.PointCloud()\n",
    "# src_pts_ndarray = read_bin_velodyne(os.path.join(data_path,'velodyne_points/data/%010d.bin' % 0))\n",
    "source = convert_kitti_bin_to_pcd(os.path.join(data_path,'velodyne_points/data/%010d.bin' % 10))\n",
    "target = convert_kitti_bin_to_pcd(os.path.join(data_path,'velodyne_points/data/%010d.bin' % 12))\n",
    "source.paint_uniform_color([1,0,0])\n",
    "target.paint_uniform_color([0,0,1])\n",
    "np_source = np.asarray(source.points)\n",
    "np_target = np.asarray(target.points)\n",
    "#source.points = o3d.utility.Vector3dVector(src_pts_ndarray[:,:3])\n",
    "# np.asarray(source.colors)[:,:] = [1, 0, 0]\n",
    "\n",
    "# target = o3d.geometry.PointCloud()\n",
    "# tar_pts_ndarray = read_bin_velodyne(os.path.join(data_path,'velodyne_points/data/%010d.bin' % 1))\n",
    "# target.points = o3d.utility.Vector3dVector(tar_pts_ndarray[:,:3])\n",
    "\n",
    "# o3d.visualization.draw_geometries([source],zoom=0.3412,\n",
    "#                                         front=[0.4257, -0.2125, -0.8795],\n",
    "#                                         lookat=[2.6172, 2.0475, 1.532],\n",
    "#                                         up=[-0.0694, -0.9768, 0.2024])\n",
    "\n",
    "# o3d.visualization.draw_geometries([source,target],\n",
    "#                                   zoom=0.5599,\n",
    "#                                   front=[-0.4958, 0.8229, 0.2773],\n",
    "#                                   lookat=[2.1126, 1.0163, -1.8543],\n",
    "#                                   up=[0.1007, -0.2626, 0.9596])\n",
    "\n",
    "\n",
    "threshold = 0.1\n",
    "evaluation = o3d.pipelines.registration.evaluate_registration(source, target, threshold, trans_init)\n",
    "draw_registration_result(source,target,trans_init)\n",
    "print(evaluation)\n",
    "\n",
    "\n",
    "\n"
   ]
  },
  {
   "source": [
    "## 2 get correspondences(kdtree)"
   ],
   "cell_type": "markdown",
   "metadata": {}
  },
  {
   "cell_type": "code",
   "execution_count": 747,
   "metadata": {},
   "outputs": [
    {
     "output_type": "stream",
     "name": "stdout",
     "text": [
      "1566\n"
     ]
    }
   ],
   "source": [
    "np_source = np.asarray(source.points)\n",
    "np_target = np.asarray(target.points)\n",
    "pcd_tree = o3d.geometry.KDTreeFlann(target)\n",
    "choice = np.random.choice(np_source.shape[0],50000,replace = False)\n",
    "# print(choice)\n",
    "\n",
    "matches = []\n",
    "for i in choice:\n",
    "    [_, idx, _] = pcd_tree.search_knn_vector_3d(source.points[i], 1)\n",
    "    matches.append([i,idx[0]])\n",
    "matches = np.asarray(matches)\n",
    "\n",
    "def isValidMatch(match):\n",
    "    dist = np.linalg.norm(target.points[match[1]]-source.points[match[0]])\n",
    "    return  dist>1 and dist < 2 ####################### need to modify according to frame frequency\n",
    "\n",
    "matches = np.asarray(list(filter(isValidMatch,matches)))\n",
    "print(len(matches))\n",
    "# print(matches)\n",
    "\n",
    "match_source_pcd = o3d.geometry.PointCloud()\n",
    "match_target_pcd = o3d.geometry.PointCloud()\n",
    "match_source_pcd.paint_uniform_color([1,0,0])\n",
    "match_source_pcd.paint_uniform_color([0,0,1])\n",
    "match_source_pcd.points = o3d.utility.Vector3dVector(np.asarray(source.points)[matches[:,0]])\n",
    "match_target_pcd.points = o3d.utility.Vector3dVector(np.asarray(target.points)[matches[:,1]])\n",
    "draw_registration_result(match_source_pcd,match_target_pcd,trans_init)\n",
    "\n"
   ]
  },
  {
   "source": [
    "## 3 remove outliers in correspondences and get initial transfomation matrix T (ransac)"
   ],
   "cell_type": "markdown",
   "metadata": {}
  },
  {
   "cell_type": "code",
   "execution_count": 745,
   "metadata": {
    "tags": []
   },
   "outputs": [
    {
     "output_type": "stream",
     "name": "stdout",
     "text": [
      "52.02981380391993\n",
      "11.421337501435541\n",
      "RegistrationResult with fitness=4.321677e-01, inlier_rmse=5.736704e-02, and correspondence_set size of 53253\n",
      "Access transformation to get result.\n",
      "RegistrationResult with fitness=4.585021e-01, inlier_rmse=6.590223e-02, and correspondence_set size of 56498\n",
      "Access transformation to get result.\n"
     ]
    }
   ],
   "source": [
    "inlier_ratio = 0\n",
    "cur_inlier_ratio = 0\n",
    "deviation = np.linalg.norm(match_tar_pts - match_src_pts)\n",
    "\n",
    "print(deviation)\n",
    "for i in range(50):\n",
    "    # get corresponding points: \n",
    "    # print(len(matches))  \n",
    "    match_src_pts = np.asarray(source.points)[matches[:,0]]\n",
    "    match_tar_pts = np.asarray(target.points)[matches[:,1]]\n",
    "    matches_rac = matches[[np.random.choice(len(matches),50,replace = False)]]\n",
    "    rac_src_pts = np.asarray(source.points)[matches_rac[:,0]]\n",
    "    rac_tar_pts = np.asarray(target.points)[matches_rac[:,1]]\n",
    "    cur_T = solve_icp(rac_src_pts,rac_tar_pts)\n",
    "    cur_R, cur_t = cur_T[0:3, 0:3], cur_T[0:3, 3]\n",
    "    cur_deviation = np.linalg.norm(match_tar_pts - np.dot(match_src_pts, cur_R.T) - cur_t)\n",
    "\n",
    "    if cur_deviation < deviation:\n",
    "        # print(cur_deviation)\n",
    "        deviation = cur_deviation\n",
    "        T = cur_T\n",
    "        R = cur_R\n",
    "        t = cur_t\n",
    "\n",
    "print(deviation)\n",
    "# draw_registration_result(source,target,T)\n",
    "# # # print(T)\n",
    "\n",
    "evaluation_before = o3d.pipelines.registration.evaluate_registration(source, target, threshold, trans_init)\n",
    "print(evaluation_before)\n",
    "\n",
    "evaluation_after = o3d.pipelines.registration.evaluate_registration(source, target, threshold, T)\n",
    "print(evaluation_after)\n",
    "\n",
    "draw_registration_result(source,target,T)\n"
   ]
  },
  {
   "cell_type": "code",
   "execution_count": 333,
   "metadata": {},
   "outputs": [],
   "source": [
    "#compute the transformed points from source to target based on the R/T found in Kabsch Algorithm\n",
    "def _transform(np_source,R,t):\n",
    "    points = []\n",
    "    for point in np_source:\n",
    "        points.append(np.dot(R,point)+t)\n",
    "    return points\n",
    "\n",
    "#compute the root mean square error between source and target\n",
    "def compute_rmse(np_source,np_target,R,t):\n",
    "    rmse = 0\n",
    "    number = len(np_target)\n",
    "    points = _transform(np_source,R,t)\n",
    "    for i in range(number):\n",
    "        error = np_target[i]-points[i]\n",
    "        rmse = rmse + math.sqrt(error[0]**2+error[1]**2+error[2]**2)\n",
    "    return rmse\n",
    "\n"
   ]
  },
  {
   "cell_type": "code",
   "execution_count": null,
   "metadata": {},
   "outputs": [],
   "source": [
    "R = np.array([[1,0,0],[0,1,0],[0,0,1]])\n",
    "res = np.dot(R,np.array([1,2,3]))\n",
    "res = res - [1,2,3]\n",
    "print(res)\n",
    "# b = np.zeros((3,1))\n",
    "# a = []\n",
    "# a.append(res)\n",
    "# a.append(b)\n",
    "# print(a)\n",
    "\n",
    "# t = res.reshape(-1,1) - np.array([1,2,3])\n",
    "# print(t)\n",
    "# print(nparray[0].reshape(-1,1)-[1,1,1])\n"
   ]
  },
  {
   "source": [
    "## 4 calculate transformation and translation for refinement"
   ],
   "cell_type": "markdown",
   "metadata": {}
  },
  {
   "cell_type": "code",
   "execution_count": null,
   "metadata": {},
   "outputs": [],
   "source": [
    "# my calculation\n",
    "\n",
    "P = np.asarray(source.points)[matches[:,0]]\n",
    "Q = np.asarray(target.points)[matches[:,1]]\n",
    "T = solve_icp(P, Q)\n",
    "print(T)\n",
    "\n",
    "threshold = 0.05\n",
    "evaluation = o3d.pipelines.registration.evaluate_registration(source, target, threshold, T)\n",
    "draw_registration_result(source,target,T)\n",
    "print(evaluation)"
   ]
  },
  {
   "cell_type": "code",
   "execution_count": null,
   "metadata": {},
   "outputs": [],
   "source": [
    "def solve_icp(P, Q):\n",
    "    \"\"\"\n",
    "    Solve ICP\n",
    "\n",
    "    Parameters\n",
    "    ----------\n",
    "    P: numpy.ndarray\n",
    "        source point cloud as N-by-3 numpy.ndarray\n",
    "    Q: numpy.ndarray\n",
    "        target point cloud as N-by-3 numpy.ndarray\n",
    "\n",
    "    Returns\n",
    "    ----------\n",
    "    T: transform matrix as 4-by-4 numpy.ndarray\n",
    "        transformation matrix from one-step ICP\n",
    "\n",
    "    \"\"\"\n",
    "    # compute centers:\n",
    "    up = P.mean(axis = 0)\n",
    "    uq = Q.mean(axis = 0)\n",
    "\n",
    "    # move to center:\n",
    "    P_centered = P - up\n",
    "    Q_centered = Q - uq\n",
    "\n",
    "    U, s, V = np.linalg.svd(np.dot(Q_centered.T, P_centered), full_matrices=True, compute_uv=True)\n",
    "    R = np.dot(U, V)\n",
    "    t = uq - np.dot(R, up)\n",
    "\n",
    "    # format as transform:\n",
    "    T = np.zeros((4, 4))\n",
    "    T[0:3, 0:3] = R\n",
    "    T[0:3, 3] = t\n",
    "    T[3, 3] = 1.0\n",
    "\n",
    "    return T"
   ]
  },
  {
   "cell_type": "code",
   "execution_count": null,
   "metadata": {},
   "outputs": [],
   "source": [
    "def draw_registration_result(source, target, transformation):\n",
    "    source_temp = copy.deepcopy(source)\n",
    "    target_temp = copy.deepcopy(target)\n",
    "    source_temp.paint_uniform_color([1, 0, 0])\n",
    "    target_temp.paint_uniform_color([0, 0, 1])\n",
    "    source_temp.transform(transformation)\n",
    "    o3d.visualization.draw_geometries([source_temp,target_temp],\n",
    "                                      zoom=0.4459,\n",
    "                                      front=[0.9288, -0.2951, -0.2242],\n",
    "                                      lookat=[1.6784, 2.0612, 1.4451],\n",
    "                                      up=[-0.3402, -0.9189, -0.1996])"
   ]
  },
  {
   "cell_type": "code",
   "execution_count": null,
   "metadata": {},
   "outputs": [],
   "source": [
    "## for comparison\n",
    "\n",
    "reg_p2p = o3d.pipelines.registration.registration_icp(\n",
    "    source, target, threshold, trans_init,\n",
    "    o3d.pipelines.registration.TransformationEstimationPointToPoint(),\n",
    "    o3d.pipelines.registration.ICPConvergenceCriteria(max_iteration=2000))\n",
    "print(reg_p2p)\n",
    "print(\"Transformation is:\")\n",
    "print(reg_p2p.transformation)\n",
    "draw_registration_result(source, target, reg_p2p.transformation)"
   ]
  },
  {
   "cell_type": "code",
   "execution_count": null,
   "metadata": {},
   "outputs": [],
   "source": [
    "# for comparision\n",
    "\n",
    "trans_init = np.asarray([[1, 0, 0, 0],\n",
    "                         [0, 1, 0, 0],\n",
    "                         [0, 0, 1, 0], [0.0, 0.0, 0.0, 1.0]])\n",
    "\n",
    "print(\"Apply point-to-point ICP\")\n",
    "threshold = 0.02\n",
    "reg_p2p = o3d.pipelines.registration.registration_icp(\n",
    "    source, target, threshold, trans_init,\n",
    "    o3d.pipelines.registration.TransformationEstimationPointToPoint())\n",
    "print(reg_p2p)\n",
    "print(\"Transformation is:\")\n",
    "print(reg_p2p.transformation)\n",
    "draw_registration_result(source, target, reg_p2p.transformation)"
   ]
  },
  {
   "cell_type": "code",
   "execution_count": null,
   "metadata": {},
   "outputs": [],
   "source": []
  }
 ]
}